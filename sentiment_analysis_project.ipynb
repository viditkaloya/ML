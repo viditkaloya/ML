{
 "cells": [
  {
   "cell_type": "markdown",
   "id": "4b002ab8",
   "metadata": {},
   "source": [
    "****Sentiment Analysis on Cab Service Company Reviews Using suitable Naive Bayes algorithms.****"
   ]
  },
  {
   "cell_type": "code",
   "execution_count": 70,
   "id": "9a30cc57",
   "metadata": {},
   "outputs": [],
   "source": [
    "import numpy as np\n",
    "from sklearn.naive_bayes import  BernoulliNB,MultinomialNB\n",
    "from sklearn.metrics import accuracy_score, confusion_matrix\n",
    "from nltk.corpus import stopwords\n",
    "import string\n",
    "import nltk"
   ]
  },
  {
   "cell_type": "code",
   "execution_count": 71,
   "id": "35c37eed",
   "metadata": {},
   "outputs": [
    {
     "name": "stderr",
     "output_type": "stream",
     "text": [
      "[nltk_data] Downloading package stopwords to\n",
      "[nltk_data]     C:\\Users\\vidit\\AppData\\Roaming\\nltk_data...\n",
      "[nltk_data]   Package stopwords is already up-to-date!\n"
     ]
    }
   ],
   "source": [
    "nltk.download('stopwords')\n",
    "stop_words = set(stopwords.words('english'))"
   ]
  },
  {
   "cell_type": "code",
   "execution_count": 72,
   "id": "f721253f",
   "metadata": {},
   "outputs": [],
   "source": [
    "import pandas as pd\n",
    "df = pd.read_csv('dataset.csv')"
   ]
  },
  {
   "cell_type": "code",
   "execution_count": 73,
   "id": "47071edb",
   "metadata": {},
   "outputs": [
    {
     "data": {
      "text/html": [
       "<div>\n",
       "<style scoped>\n",
       "    .dataframe tbody tr th:only-of-type {\n",
       "        vertical-align: middle;\n",
       "    }\n",
       "\n",
       "    .dataframe tbody tr th {\n",
       "        vertical-align: top;\n",
       "    }\n",
       "\n",
       "    .dataframe thead th {\n",
       "        text-align: right;\n",
       "    }\n",
       "</style>\n",
       "<table border=\"1\" class=\"dataframe\">\n",
       "  <thead>\n",
       "    <tr style=\"text-align: right;\">\n",
       "      <th></th>\n",
       "      <th>Text</th>\n",
       "      <th>Sentiment</th>\n",
       "      <th>Unnamed: 2</th>\n",
       "    </tr>\n",
       "  </thead>\n",
       "  <tbody>\n",
       "    <tr>\n",
       "      <th>0</th>\n",
       "      <td>Such an easy app to use, really quick and easy...</td>\n",
       "      <td>positive</td>\n",
       "      <td>NaN</td>\n",
       "    </tr>\n",
       "    <tr>\n",
       "      <th>1</th>\n",
       "      <td>The drivers and the services have been excepti...</td>\n",
       "      <td>positive</td>\n",
       "      <td>NaN</td>\n",
       "    </tr>\n",
       "    <tr>\n",
       "      <th>2</th>\n",
       "      <td>All rides have been enjoyable.</td>\n",
       "      <td>positive</td>\n",
       "      <td>NaN</td>\n",
       "    </tr>\n",
       "    <tr>\n",
       "      <th>3</th>\n",
       "      <td>Driver very knew where I was</td>\n",
       "      <td>neutral</td>\n",
       "      <td>NaN</td>\n",
       "    </tr>\n",
       "    <tr>\n",
       "      <th>4</th>\n",
       "      <td>most driver's are child friendly and patient.</td>\n",
       "      <td>positive</td>\n",
       "      <td>NaN</td>\n",
       "    </tr>\n",
       "    <tr>\n",
       "      <th>...</th>\n",
       "      <td>...</td>\n",
       "      <td>...</td>\n",
       "      <td>...</td>\n",
       "    </tr>\n",
       "    <tr>\n",
       "      <th>5917</th>\n",
       "      <td>My Liked Songs can only display all my songs i...</td>\n",
       "      <td>neutral</td>\n",
       "      <td>NaN</td>\n",
       "    </tr>\n",
       "    <tr>\n",
       "      <th>5918</th>\n",
       "      <td>Although it can be a little annoying in the fr...</td>\n",
       "      <td>negative</td>\n",
       "      <td>NaN</td>\n",
       "    </tr>\n",
       "    <tr>\n",
       "      <th>5919</th>\n",
       "      <td>It isn't about the catalogue..it's about the c...</td>\n",
       "      <td>positive</td>\n",
       "      <td>NaN</td>\n",
       "    </tr>\n",
       "    <tr>\n",
       "      <th>5920</th>\n",
       "      <td>Except for the fact that I can't open my downl...</td>\n",
       "      <td>negative</td>\n",
       "      <td>NaN</td>\n",
       "    </tr>\n",
       "    <tr>\n",
       "      <th>5921</th>\n",
       "      <td>This app stinks too many interruptions and upg...</td>\n",
       "      <td>negative</td>\n",
       "      <td>NaN</td>\n",
       "    </tr>\n",
       "  </tbody>\n",
       "</table>\n",
       "<p>5922 rows × 3 columns</p>\n",
       "</div>"
      ],
      "text/plain": [
       "                                                   Text Sentiment Unnamed: 2\n",
       "0     Such an easy app to use, really quick and easy...  positive        NaN\n",
       "1     The drivers and the services have been excepti...  positive        NaN\n",
       "2                        All rides have been enjoyable.  positive        NaN\n",
       "3                          Driver very knew where I was   neutral        NaN\n",
       "4         most driver's are child friendly and patient.  positive        NaN\n",
       "...                                                 ...       ...        ...\n",
       "5917  My Liked Songs can only display all my songs i...   neutral        NaN\n",
       "5918  Although it can be a little annoying in the fr...  negative        NaN\n",
       "5919  It isn't about the catalogue..it's about the c...  positive        NaN\n",
       "5920  Except for the fact that I can't open my downl...  negative        NaN\n",
       "5921  This app stinks too many interruptions and upg...  negative        NaN\n",
       "\n",
       "[5922 rows x 3 columns]"
      ]
     },
     "execution_count": 73,
     "metadata": {},
     "output_type": "execute_result"
    }
   ],
   "source": [
    "df"
   ]
  },
  {
   "cell_type": "markdown",
   "id": "700b5cc2",
   "metadata": {},
   "source": [
    "**Performing Data cleaning**"
   ]
  },
  {
   "cell_type": "code",
   "execution_count": 74,
   "id": "3869e455",
   "metadata": {},
   "outputs": [],
   "source": [
    "def preprocess_text(text):\n",
    "    # Convert to lowercase\n",
    "    text = text.lower()\n",
    "    # Remove punctuation\n",
    "    text = text.translate(str.maketrans('', '', string.punctuation))\n",
    "    # Remove stopwords\n",
    "    text = ' '.join([word for word in text.split() if word not in stop_words])\n",
    "    return text"
   ]
  },
  {
   "cell_type": "markdown",
   "id": "cf970854",
   "metadata": {},
   "source": [
    " **Removing emojis from the dataset for better predictions**"
   ]
  },
  {
   "cell_type": "code",
   "execution_count": 75,
   "id": "ac9a2423",
   "metadata": {},
   "outputs": [
    {
     "name": "stdout",
     "output_type": "stream",
     "text": [
      "Emojis removed and cleaned data saved \n"
     ]
    }
   ],
   "source": [
    "import re\n",
    "\n",
    "# Function to remove emojis from a given text\n",
    "def remove_emojis(text):\n",
    "    if isinstance(text, str):  # Check if the input is a string\n",
    "        emoji_pattern = re.compile(\n",
    "            \"[\"\n",
    "            \"\\U0001F600-\\U0001F64F\"  # emoticons\n",
    "            \"\\U0001F300-\\U0001F5FF\"  # symbols & pictographs\n",
    "            \"\\U0001F680-\\U0001F6FF\"  # transport & map symbols\n",
    "            \"\\U0001F1E0-\\U0001F1FF\"  # flags (iOS)\n",
    "            \"\\U00002702-\\U000027B0\"  # dingbats\n",
    "            \"\\U000024C2-\\U0001F251\" \n",
    "            \"]+\", flags=re.UNICODE)\n",
    "        return emoji_pattern.sub(r'', text)\n",
    "    else:\n",
    "        return text\n",
    "\n",
    "# Read the CSV file\n",
    "input_file = 'dataset.csv'\n",
    "\n",
    "# Apply the remove_emojis function to all text columns\n",
    "for column in df.select_dtypes(include=['object']).columns:\n",
    "    df[column] = df[column].apply(remove_emojis)\n",
    "\n",
    "print(f'Emojis removed and cleaned data saved ')\n"
   ]
  },
  {
   "cell_type": "code",
   "execution_count": 76,
   "id": "d0462a4f",
   "metadata": {},
   "outputs": [
    {
     "data": {
      "text/html": [
       "<div>\n",
       "<style scoped>\n",
       "    .dataframe tbody tr th:only-of-type {\n",
       "        vertical-align: middle;\n",
       "    }\n",
       "\n",
       "    .dataframe tbody tr th {\n",
       "        vertical-align: top;\n",
       "    }\n",
       "\n",
       "    .dataframe thead th {\n",
       "        text-align: right;\n",
       "    }\n",
       "</style>\n",
       "<table border=\"1\" class=\"dataframe\">\n",
       "  <thead>\n",
       "    <tr style=\"text-align: right;\">\n",
       "      <th></th>\n",
       "      <th>Text</th>\n",
       "      <th>Sentiment</th>\n",
       "      <th>Unnamed: 2</th>\n",
       "    </tr>\n",
       "  </thead>\n",
       "  <tbody>\n",
       "    <tr>\n",
       "      <th>0</th>\n",
       "      <td>easy app use really quick easy set absolutely ...</td>\n",
       "      <td>positive</td>\n",
       "      <td>NaN</td>\n",
       "    </tr>\n",
       "    <tr>\n",
       "      <th>1</th>\n",
       "      <td>drivers services exceptional since ever</td>\n",
       "      <td>positive</td>\n",
       "      <td>NaN</td>\n",
       "    </tr>\n",
       "    <tr>\n",
       "      <th>2</th>\n",
       "      <td>rides enjoyable</td>\n",
       "      <td>positive</td>\n",
       "      <td>NaN</td>\n",
       "    </tr>\n",
       "    <tr>\n",
       "      <th>3</th>\n",
       "      <td>driver knew</td>\n",
       "      <td>neutral</td>\n",
       "      <td>NaN</td>\n",
       "    </tr>\n",
       "    <tr>\n",
       "      <th>4</th>\n",
       "      <td>drivers child friendly patient</td>\n",
       "      <td>positive</td>\n",
       "      <td>NaN</td>\n",
       "    </tr>\n",
       "    <tr>\n",
       "      <th>5</th>\n",
       "      <td>quick easy use drivers quite friendly</td>\n",
       "      <td>positive</td>\n",
       "      <td>NaN</td>\n",
       "    </tr>\n",
       "    <tr>\n",
       "      <th>6</th>\n",
       "      <td>love appits easyshows person drive u name</td>\n",
       "      <td>positive</td>\n",
       "      <td>NaN</td>\n",
       "    </tr>\n",
       "    <tr>\n",
       "      <th>7</th>\n",
       "      <td>best drivers ever</td>\n",
       "      <td>positive</td>\n",
       "      <td>NaN</td>\n",
       "    </tr>\n",
       "    <tr>\n",
       "      <th>8</th>\n",
       "      <td>good travel app</td>\n",
       "      <td>positive</td>\n",
       "      <td>NaN</td>\n",
       "    </tr>\n",
       "    <tr>\n",
       "      <th>9</th>\n",
       "      <td>cabs r clean drivers</td>\n",
       "      <td>positive</td>\n",
       "      <td>NaN</td>\n",
       "    </tr>\n",
       "    <tr>\n",
       "      <th>10</th>\n",
       "      <td>love rides</td>\n",
       "      <td>positive</td>\n",
       "      <td>NaN</td>\n",
       "    </tr>\n",
       "    <tr>\n",
       "      <th>11</th>\n",
       "      <td>fast affordable efficient means get destinatio...</td>\n",
       "      <td>positive</td>\n",
       "      <td>NaN</td>\n",
       "    </tr>\n",
       "    <tr>\n",
       "      <th>12</th>\n",
       "      <td>perfect transport</td>\n",
       "      <td>positive</td>\n",
       "      <td>NaN</td>\n",
       "    </tr>\n",
       "    <tr>\n",
       "      <th>13</th>\n",
       "      <td>rider vey wicked use add money</td>\n",
       "      <td>negative</td>\n",
       "      <td>NaN</td>\n",
       "    </tr>\n",
       "    <tr>\n",
       "      <th>14</th>\n",
       "      <td>easiest way find transport safer</td>\n",
       "      <td>positive</td>\n",
       "      <td>NaN</td>\n",
       "    </tr>\n",
       "    <tr>\n",
       "      <th>15</th>\n",
       "      <td>safe travel</td>\n",
       "      <td>positive</td>\n",
       "      <td>NaN</td>\n",
       "    </tr>\n",
       "    <tr>\n",
       "      <th>16</th>\n",
       "      <td>always good ride good drivers</td>\n",
       "      <td>positive</td>\n",
       "      <td>NaN</td>\n",
       "    </tr>\n",
       "    <tr>\n",
       "      <th>17</th>\n",
       "      <td>kids loved spacious ride</td>\n",
       "      <td>positive</td>\n",
       "      <td>NaN</td>\n",
       "    </tr>\n",
       "    <tr>\n",
       "      <th>18</th>\n",
       "      <td>enjoyed ride</td>\n",
       "      <td>positive</td>\n",
       "      <td>NaN</td>\n",
       "    </tr>\n",
       "    <tr>\n",
       "      <th>19</th>\n",
       "      <td>clean cars</td>\n",
       "      <td>positive</td>\n",
       "      <td>NaN</td>\n",
       "    </tr>\n",
       "    <tr>\n",
       "      <th>20</th>\n",
       "      <td>best service best prices</td>\n",
       "      <td>positive</td>\n",
       "      <td>NaN</td>\n",
       "    </tr>\n",
       "    <tr>\n",
       "      <th>21</th>\n",
       "      <td>fast convenient friendly drivers smile</td>\n",
       "      <td>positive</td>\n",
       "      <td>NaN</td>\n",
       "    </tr>\n",
       "    <tr>\n",
       "      <th>22</th>\n",
       "      <td>never encounted bad experience even drivers pr...</td>\n",
       "      <td>positive</td>\n",
       "      <td>NaN</td>\n",
       "    </tr>\n",
       "    <tr>\n",
       "      <th>23</th>\n",
       "      <td>convenient way moving around ever</td>\n",
       "      <td>positive</td>\n",
       "      <td>NaN</td>\n",
       "    </tr>\n",
       "    <tr>\n",
       "      <th>24</th>\n",
       "      <td>nice rides</td>\n",
       "      <td>positive</td>\n",
       "      <td>NaN</td>\n",
       "    </tr>\n",
       "    <tr>\n",
       "      <th>25</th>\n",
       "      <td>always satisfied drivers come time</td>\n",
       "      <td>positive</td>\n",
       "      <td>NaN</td>\n",
       "    </tr>\n",
       "    <tr>\n",
       "      <th>26</th>\n",
       "      <td>excellent rides good driving skills displayed</td>\n",
       "      <td>positive</td>\n",
       "      <td>NaN</td>\n",
       "    </tr>\n",
       "    <tr>\n",
       "      <th>27</th>\n",
       "      <td>ride bold use bolt nothing exceptionally great</td>\n",
       "      <td>positive</td>\n",
       "      <td>NaN</td>\n",
       "    </tr>\n",
       "    <tr>\n",
       "      <th>28</th>\n",
       "      <td>good driver ever</td>\n",
       "      <td>positive</td>\n",
       "      <td>NaN</td>\n",
       "    </tr>\n",
       "    <tr>\n",
       "      <th>29</th>\n",
       "      <td>awesome driver good</td>\n",
       "      <td>positive</td>\n",
       "      <td>NaN</td>\n",
       "    </tr>\n",
       "    <tr>\n",
       "      <th>30</th>\n",
       "      <td>cars super clean</td>\n",
       "      <td>positive</td>\n",
       "      <td>NaN</td>\n",
       "    </tr>\n",
       "    <tr>\n",
       "      <th>31</th>\n",
       "      <td>great drivers hospitable</td>\n",
       "      <td>positive</td>\n",
       "      <td>NaN</td>\n",
       "    </tr>\n",
       "    <tr>\n",
       "      <th>32</th>\n",
       "      <td>dont wait longer 15 mins love prices reasonable</td>\n",
       "      <td>neutral</td>\n",
       "      <td>NaN</td>\n",
       "    </tr>\n",
       "    <tr>\n",
       "      <th>33</th>\n",
       "      <td>efficientdrivers awesome</td>\n",
       "      <td>positive</td>\n",
       "      <td>NaN</td>\n",
       "    </tr>\n",
       "    <tr>\n",
       "      <th>34</th>\n",
       "      <td>great drivers cars</td>\n",
       "      <td>positive</td>\n",
       "      <td>NaN</td>\n",
       "    </tr>\n",
       "    <tr>\n",
       "      <th>35</th>\n",
       "      <td>nice drivers always friendly</td>\n",
       "      <td>positive</td>\n",
       "      <td>NaN</td>\n",
       "    </tr>\n",
       "    <tr>\n",
       "      <th>36</th>\n",
       "      <td>cheapeat rate saudi</td>\n",
       "      <td>positive</td>\n",
       "      <td>NaN</td>\n",
       "    </tr>\n",
       "    <tr>\n",
       "      <th>37</th>\n",
       "      <td>drivers always profesional</td>\n",
       "      <td>positive</td>\n",
       "      <td>NaN</td>\n",
       "    </tr>\n",
       "    <tr>\n",
       "      <th>38</th>\n",
       "      <td>give waiting time never respected 1 min 2</td>\n",
       "      <td>negative</td>\n",
       "      <td>NaN</td>\n",
       "    </tr>\n",
       "    <tr>\n",
       "      <th>39</th>\n",
       "      <td>drivers aloud give impossible pickup time</td>\n",
       "      <td>negative</td>\n",
       "      <td>NaN</td>\n",
       "    </tr>\n",
       "    <tr>\n",
       "      <th>40</th>\n",
       "      <td>generally okay wait time could better</td>\n",
       "      <td>neutral</td>\n",
       "      <td>NaN</td>\n",
       "    </tr>\n",
       "    <tr>\n",
       "      <th>41</th>\n",
       "      <td>drivers friendly cars clean</td>\n",
       "      <td>positive</td>\n",
       "      <td>NaN</td>\n",
       "    </tr>\n",
       "    <tr>\n",
       "      <th>42</th>\n",
       "      <td>regular user definitely spiked prices ridiculo...</td>\n",
       "      <td>negative</td>\n",
       "      <td>NaN</td>\n",
       "    </tr>\n",
       "    <tr>\n",
       "      <th>43</th>\n",
       "      <td>requested help app still reply</td>\n",
       "      <td>negative</td>\n",
       "      <td>NaN</td>\n",
       "    </tr>\n",
       "    <tr>\n",
       "      <th>44</th>\n",
       "      <td>utterly disappointed deleting account bolt</td>\n",
       "      <td>negative</td>\n",
       "      <td>NaN</td>\n",
       "    </tr>\n",
       "    <tr>\n",
       "      <th>45</th>\n",
       "      <td>answer cs already sent message app</td>\n",
       "      <td>neutral</td>\n",
       "      <td>NaN</td>\n",
       "    </tr>\n",
       "    <tr>\n",
       "      <th>46</th>\n",
       "      <td>recieved multiple emails someone using email a...</td>\n",
       "      <td>negative</td>\n",
       "      <td>NaN</td>\n",
       "    </tr>\n",
       "    <tr>\n",
       "      <th>47</th>\n",
       "      <td>dont think trust app request cab feels feel bad</td>\n",
       "      <td>negative</td>\n",
       "      <td>NaN</td>\n",
       "    </tr>\n",
       "    <tr>\n",
       "      <th>48</th>\n",
       "      <td>app keeps getting expensive day im gonna downl...</td>\n",
       "      <td>negative</td>\n",
       "      <td>NaN</td>\n",
       "    </tr>\n",
       "    <tr>\n",
       "      <th>49</th>\n",
       "      <td>last time used app terrible driver talks much ...</td>\n",
       "      <td>negative</td>\n",
       "      <td>NaN</td>\n",
       "    </tr>\n",
       "  </tbody>\n",
       "</table>\n",
       "</div>"
      ],
      "text/plain": [
       "                                                 Text Sentiment Unnamed: 2\n",
       "0   easy app use really quick easy set absolutely ...  positive        NaN\n",
       "1             drivers services exceptional since ever  positive        NaN\n",
       "2                                     rides enjoyable  positive        NaN\n",
       "3                                         driver knew   neutral        NaN\n",
       "4                      drivers child friendly patient  positive        NaN\n",
       "5               quick easy use drivers quite friendly  positive        NaN\n",
       "6           love appits easyshows person drive u name  positive        NaN\n",
       "7                                   best drivers ever  positive        NaN\n",
       "8                                     good travel app  positive        NaN\n",
       "9                                cabs r clean drivers  positive        NaN\n",
       "10                                         love rides  positive        NaN\n",
       "11  fast affordable efficient means get destinatio...  positive        NaN\n",
       "12                                  perfect transport  positive        NaN\n",
       "13                     rider vey wicked use add money  negative        NaN\n",
       "14                   easiest way find transport safer  positive        NaN\n",
       "15                                        safe travel  positive        NaN\n",
       "16                      always good ride good drivers  positive        NaN\n",
       "17                           kids loved spacious ride  positive        NaN\n",
       "18                                       enjoyed ride  positive        NaN\n",
       "19                                         clean cars  positive        NaN\n",
       "20                           best service best prices  positive        NaN\n",
       "21             fast convenient friendly drivers smile  positive        NaN\n",
       "22  never encounted bad experience even drivers pr...  positive        NaN\n",
       "23                  convenient way moving around ever  positive        NaN\n",
       "24                                         nice rides  positive        NaN\n",
       "25                 always satisfied drivers come time  positive        NaN\n",
       "26      excellent rides good driving skills displayed  positive        NaN\n",
       "27     ride bold use bolt nothing exceptionally great  positive        NaN\n",
       "28                                   good driver ever  positive        NaN\n",
       "29                                awesome driver good  positive        NaN\n",
       "30                                   cars super clean  positive        NaN\n",
       "31                           great drivers hospitable  positive        NaN\n",
       "32    dont wait longer 15 mins love prices reasonable   neutral        NaN\n",
       "33                           efficientdrivers awesome  positive        NaN\n",
       "34                                 great drivers cars  positive        NaN\n",
       "35                       nice drivers always friendly  positive        NaN\n",
       "36                                cheapeat rate saudi  positive        NaN\n",
       "37                         drivers always profesional  positive        NaN\n",
       "38          give waiting time never respected 1 min 2  negative        NaN\n",
       "39          drivers aloud give impossible pickup time  negative        NaN\n",
       "40              generally okay wait time could better   neutral        NaN\n",
       "41                        drivers friendly cars clean  positive        NaN\n",
       "42  regular user definitely spiked prices ridiculo...  negative        NaN\n",
       "43                     requested help app still reply  negative        NaN\n",
       "44         utterly disappointed deleting account bolt  negative        NaN\n",
       "45                 answer cs already sent message app   neutral        NaN\n",
       "46  recieved multiple emails someone using email a...  negative        NaN\n",
       "47    dont think trust app request cab feels feel bad  negative        NaN\n",
       "48  app keeps getting expensive day im gonna downl...  negative        NaN\n",
       "49  last time used app terrible driver talks much ...  negative        NaN"
      ]
     },
     "execution_count": 76,
     "metadata": {},
     "output_type": "execute_result"
    }
   ],
   "source": [
    "df['Text'] = df['Text'].apply(preprocess_text)\n",
    "df1=df.copy()\n",
    "df1.head(50)\n"
   ]
  },
  {
   "cell_type": "code",
   "execution_count": 77,
   "id": "ca339099",
   "metadata": {},
   "outputs": [],
   "source": [
    "x=df1['Text'].str.lower()\n",
    "y=df1['Sentiment'].str.lower()\n"
   ]
  },
  {
   "cell_type": "code",
   "execution_count": 78,
   "id": "250be03c",
   "metadata": {},
   "outputs": [
    {
     "data": {
      "text/plain": [
       "0       easy app use really quick easy set absolutely ...\n",
       "1                 drivers services exceptional since ever\n",
       "2                                         rides enjoyable\n",
       "3                                             driver knew\n",
       "4                          drivers child friendly patient\n",
       "                              ...                        \n",
       "5917        liked songs display songs sort recently added\n",
       "5918    although little annoying free version way bett...\n",
       "5919                   isnt catalogueits curation spotify\n",
       "5920    except fact cant open downloaded albums im off...\n",
       "5921    app stinks many interruptions upgrades good do...\n",
       "Name: Text, Length: 5922, dtype: object"
      ]
     },
     "execution_count": 78,
     "metadata": {},
     "output_type": "execute_result"
    }
   ],
   "source": [
    "x"
   ]
  },
  {
   "cell_type": "code",
   "execution_count": 79,
   "id": "95a0165a",
   "metadata": {},
   "outputs": [
    {
     "data": {
      "text/plain": [
       "0       positive\n",
       "1       positive\n",
       "2       positive\n",
       "3        neutral\n",
       "4       positive\n",
       "          ...   \n",
       "5917     neutral\n",
       "5918    negative\n",
       "5919    positive\n",
       "5920    negative\n",
       "5921    negative\n",
       "Name: Sentiment, Length: 5922, dtype: object"
      ]
     },
     "execution_count": 79,
     "metadata": {},
     "output_type": "execute_result"
    }
   ],
   "source": [
    "y"
   ]
  },
  {
   "cell_type": "code",
   "execution_count": 80,
   "id": "7f5906c8",
   "metadata": {},
   "outputs": [
    {
     "data": {
      "text/plain": [
       "negative                                                                           2186\n",
       "positive                                                                           2134\n",
       "neutral                                                                            1600\n",
       " it adds a lot of great options by opening doors to new places and experiences.       1\n",
       "-                                                                                     1\n",
       "Name: Sentiment, dtype: int64"
      ]
     },
     "execution_count": 80,
     "metadata": {},
     "output_type": "execute_result"
    }
   ],
   "source": [
    "df['Sentiment'].value_counts()"
   ]
  },
  {
   "cell_type": "code",
   "execution_count": 81,
   "id": "6cd7be37",
   "metadata": {},
   "outputs": [],
   "source": [
    "from sklearn.feature_extraction.text import CountVectorizer"
   ]
  },
  {
   "cell_type": "code",
   "execution_count": 82,
   "id": "2d07dda7",
   "metadata": {},
   "outputs": [],
   "source": [
    "vectorizer1=CountVectorizer(binary=True)\n",
    "vectorizer2=CountVectorizer(binary=False)"
   ]
  },
  {
   "cell_type": "code",
   "execution_count": 83,
   "id": "d22ab52e",
   "metadata": {},
   "outputs": [],
   "source": [
    "x1=vectorizer1.fit_transform(x)\n",
    "x2=vectorizer2.fit_transform(x)"
   ]
  },
  {
   "cell_type": "code",
   "execution_count": 84,
   "id": "d6ae1784",
   "metadata": {},
   "outputs": [],
   "source": [
    "from sklearn.model_selection import train_test_split"
   ]
  },
  {
   "cell_type": "code",
   "execution_count": 85,
   "id": "29adf372",
   "metadata": {},
   "outputs": [],
   "source": [
    "xtrain1,xtest1,ytrain,ytest=train_test_split(x1,y,test_size=0.25,random_state=42)"
   ]
  },
  {
   "cell_type": "code",
   "execution_count": 86,
   "id": "0bd13008",
   "metadata": {},
   "outputs": [],
   "source": [
    "xtrain2,xtest2,ytrain,ytest=train_test_split(x2,y,test_size=0.25,random_state=42)"
   ]
  },
  {
   "cell_type": "markdown",
   "id": "d6a92356",
   "metadata": {},
   "source": [
    "**Using algorithms such as Bernoulli Naive Bayes and Multinomial Naive Bayes, and techniques such as Count Vectorization and TfidfVectorizer, we will determine which approach is the most accurate for this dataset.**"
   ]
  },
  {
   "cell_type": "code",
   "execution_count": 87,
   "id": "e031eee1",
   "metadata": {},
   "outputs": [],
   "source": [
    "bnb=BernoulliNB()\n",
    "mnb=MultinomialNB()"
   ]
  },
  {
   "cell_type": "code",
   "execution_count": 88,
   "id": "37742f0e",
   "metadata": {},
   "outputs": [
    {
     "data": {
      "text/plain": [
       "BernoulliNB()"
      ]
     },
     "execution_count": 88,
     "metadata": {},
     "output_type": "execute_result"
    }
   ],
   "source": [
    "bnb.fit(xtrain1,ytrain)"
   ]
  },
  {
   "cell_type": "code",
   "execution_count": 89,
   "id": "45596b54",
   "metadata": {},
   "outputs": [
    {
     "data": {
      "text/plain": [
       "MultinomialNB()"
      ]
     },
     "execution_count": 89,
     "metadata": {},
     "output_type": "execute_result"
    }
   ],
   "source": [
    "mnb.fit(xtrain2,ytrain)"
   ]
  },
  {
   "cell_type": "code",
   "execution_count": 90,
   "id": "d787a140",
   "metadata": {},
   "outputs": [],
   "source": [
    "y_pred1=bnb.predict(xtest1)"
   ]
  },
  {
   "cell_type": "code",
   "execution_count": 91,
   "id": "086adc40",
   "metadata": {},
   "outputs": [],
   "source": [
    "y_pred2=mnb.predict(xtest2)"
   ]
  },
  {
   "cell_type": "code",
   "execution_count": 92,
   "id": "3d52f0be",
   "metadata": {},
   "outputs": [],
   "source": [
    "from sklearn.metrics import accuracy_score"
   ]
  },
  {
   "cell_type": "code",
   "execution_count": 93,
   "id": "727aae29",
   "metadata": {},
   "outputs": [
    {
     "data": {
      "text/plain": [
       "0.7413909520594193"
      ]
     },
     "execution_count": 93,
     "metadata": {},
     "output_type": "execute_result"
    }
   ],
   "source": [
    "accuracy_score(ytest,y_pred1)"
   ]
  },
  {
   "cell_type": "code",
   "execution_count": 94,
   "id": "6d0cbab0",
   "metadata": {},
   "outputs": [
    {
     "data": {
      "text/plain": [
       "0.736664415935179"
      ]
     },
     "execution_count": 94,
     "metadata": {},
     "output_type": "execute_result"
    }
   ],
   "source": [
    "accuracy_score(ytest,y_pred2)"
   ]
  },
  {
   "cell_type": "code",
   "execution_count": 95,
   "id": "4ed0cc60",
   "metadata": {},
   "outputs": [],
   "source": [
    "from sklearn.feature_extraction.text import TfidfVectorizer"
   ]
  },
  {
   "cell_type": "code",
   "execution_count": 96,
   "id": "b3ac70c7",
   "metadata": {},
   "outputs": [],
   "source": [
    "xtrain3,xtest3,ytrain,ytest=train_test_split(x,y,test_size=0.25,random_state=42)"
   ]
  },
  {
   "cell_type": "code",
   "execution_count": 97,
   "id": "86443051",
   "metadata": {},
   "outputs": [],
   "source": [
    "from sklearn.pipeline import make_pipeline\n",
    "model=make_pipeline(TfidfVectorizer(),MultinomialNB())"
   ]
  },
  {
   "cell_type": "code",
   "execution_count": 98,
   "id": "7718d180",
   "metadata": {},
   "outputs": [
    {
     "data": {
      "text/plain": [
       "Pipeline(steps=[('tfidfvectorizer', TfidfVectorizer()),\n",
       "                ('multinomialnb', MultinomialNB())])"
      ]
     },
     "execution_count": 98,
     "metadata": {},
     "output_type": "execute_result"
    }
   ],
   "source": [
    "model.fit(xtrain3,ytrain)"
   ]
  },
  {
   "cell_type": "code",
   "execution_count": 99,
   "id": "25bc6ec0",
   "metadata": {},
   "outputs": [],
   "source": [
    "predictions_tf=model.predict(xtest3)"
   ]
  },
  {
   "cell_type": "code",
   "execution_count": 100,
   "id": "8b3db40d",
   "metadata": {},
   "outputs": [
    {
     "data": {
      "text/plain": [
       "0.738014854827819"
      ]
     },
     "execution_count": 100,
     "metadata": {},
     "output_type": "execute_result"
    }
   ],
   "source": [
    "accuracy_score(ytest,predictions_tf)"
   ]
  },
  {
   "cell_type": "markdown",
   "id": "2bc1dcb0",
   "metadata": {},
   "source": [
    "**Conclusion: The Bernoulli classification algorithm achieved the best accuracy score of 0.7413909520594193 using the Count Vectorization technique.**"
   ]
  },
  {
   "cell_type": "markdown",
   "id": "78b4606c",
   "metadata": {},
   "source": [
    "**Now by taking dynamic input from the user, we can verify if the model is providing accurate predictions.**"
   ]
  },
  {
   "cell_type": "code",
   "execution_count": 101,
   "id": "ad2826c0",
   "metadata": {},
   "outputs": [
    {
     "name": "stdout",
     "output_type": "stream",
     "text": [
      "Accuracy: 0.7413909520594193\n",
      "Enter your review: vey good services\n",
      "Predicted Rating: positive\n"
     ]
    }
   ],
   "source": [
    "from sklearn.feature_extraction.text import CountVectorizer\n",
    "from sklearn.naive_bayes import BernoulliNB\n",
    "from sklearn.metrics import accuracy_score\n",
    "\n",
    "# Assuming x, xtrain1, xtest1, ytrain, ytest are already defined\n",
    "\n",
    "# Create and fit the CountVectorizer\n",
    "vectorizer1 = CountVectorizer(binary=True)\n",
    "x1 = vectorizer1.fit_transform(x)\n",
    "\n",
    "# Train the Bernoulli Naive Bayes model\n",
    "bnb = BernoulliNB()\n",
    "bnb.fit(xtrain1, ytrain)\n",
    "\n",
    "# Predict on test data and calculate accuracy\n",
    "y_pred1 = bnb.predict(xtest1)\n",
    "print(\"Accuracy:\", accuracy_score(ytest, y_pred1))\n",
    "\n",
    "# Function to preprocess the review\n",
    "def preprocess_text(text):\n",
    "    # Add your preprocessing steps here (e.g., lowercasing, removing punctuation)\n",
    "    return text.lower()\n",
    "\n",
    "def predict_rating(review):\n",
    "    # Preprocess the review\n",
    "    preprocessed_review = preprocess_text(review)\n",
    "\n",
    "    # Transform the preprocessed review using the fitted CountVectorizer\n",
    "    review_vectorized = vectorizer1.transform([preprocessed_review])\n",
    "\n",
    "    # Predict the rating using the trained Bernoulli Naive Bayes model\n",
    "    predicted_rating = bnb.predict(review_vectorized)[0]\n",
    "\n",
    "    return predicted_rating\n",
    "\n",
    "# Get user input for the review\n",
    "user_review = input(\"Enter your review: \")\n",
    "\n",
    "# Predict the rating\n",
    "predicted_rating = predict_rating(user_review)\n",
    "\n",
    "print(\"Predicted Rating:\", predicted_rating)"
   ]
  },
  {
   "cell_type": "markdown",
   "id": "b8442f54",
   "metadata": {},
   "source": [
    "**Saving the Bernoulli model, which has demonstrated the highest accuracy, to disk for easy access using Joblib library.**"
   ]
  },
  {
   "cell_type": "code",
   "execution_count": 102,
   "id": "878332ca",
   "metadata": {},
   "outputs": [],
   "source": [
    "import joblib"
   ]
  },
  {
   "cell_type": "code",
   "execution_count": 103,
   "id": "514229c1",
   "metadata": {},
   "outputs": [
    {
     "data": {
      "text/plain": [
       "['bernouli.joblib']"
      ]
     },
     "execution_count": 103,
     "metadata": {},
     "output_type": "execute_result"
    }
   ],
   "source": [
    "model = 'bernouli.joblib'\n",
    "joblib.dump(bnb, model)"
   ]
  }
 ],
 "metadata": {
  "kernelspec": {
   "display_name": "Python 3 (ipykernel)",
   "language": "python",
   "name": "python3"
  },
  "language_info": {
   "codemirror_mode": {
    "name": "ipython",
    "version": 3
   },
   "file_extension": ".py",
   "mimetype": "text/x-python",
   "name": "python",
   "nbconvert_exporter": "python",
   "pygments_lexer": "ipython3",
   "version": "3.9.12"
  }
 },
 "nbformat": 4,
 "nbformat_minor": 5
}
